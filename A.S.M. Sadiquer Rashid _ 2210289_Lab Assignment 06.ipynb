{
  "nbformat": 4,
  "nbformat_minor": 0,
  "metadata": {
    "colab": {
      "provenance": []
    },
    "kernelspec": {
      "name": "python3",
      "display_name": "Python 3"
    },
    "language_info": {
      "name": "python"
    }
  },
  "cells": [
    {
      "cell_type": "markdown",
      "source": [
        "Class Evaluation 4,5,7,8,9"
      ],
      "metadata": {
        "id": "Lt1nw87LEa8j"
      }
    },
    {
      "cell_type": "code",
      "execution_count": null,
      "metadata": {
        "id": "cc1wryBXDsMA",
        "colab": {
          "base_uri": "https://localhost:8080/"
        },
        "outputId": "aa5584e4-b0d9-426f-8325-05b6a2b7c3a9"
      },
      "outputs": [
        {
          "output_type": "stream",
          "name": "stdout",
          "text": [
            " ID : 1 \n",
            " Name :Samin \n",
            " Department : CSE \n",
            " Age : 21 \n",
            " 3.91\n",
            "-----------------------\n",
            " ID : 2 \n",
            " Name :Fahim \n",
            " Department : ECE \n",
            " Age : 21 \n",
            " 3.85\n",
            "-----------------------\n",
            " ID : 3 \n",
            " Name :Tahura \n",
            " Department : EEE \n",
            " Age : 22 \n",
            " 3.01\n",
            "-----------------------\n",
            " ID : 4 \n",
            " Name :Sumaiya \n",
            " Department : BBA \n",
            " Age : 23 \n",
            " 3.96\n",
            "Class variables are shared across all instances of a class, while instance variables are unique to each instance\n",
            "Instance methods need a class instance and can access the instance through self . Class methods don't need a class instance. They can't access the instance ( self ) but they have access to the class itself via cls .\n"
          ]
        }
      ],
      "source": [
        "#Task - 01 \n",
        "class Student :\n",
        "  Id = 0\n",
        "  def __init__(self,name,dept,age,cgpa):\n",
        "    self.name = name\n",
        "    self.dept = dept\n",
        "    self.age = age\n",
        "    self.cgpa = cgpa\n",
        "    Student.Id +=1\n",
        "  def showDetails(self):\n",
        "    print(f\" ID : {self.Id} \\n Name :{self.name} \\n Department : {self.dept} \\n Age : {self.age} \\n {self.cgpa}\")\n",
        "  @classmethod\n",
        "  def from_String(cls,info):\n",
        "    name,dept,age,cgpa = info.split(\"-\")\n",
        "    obj = cls(name,dept,age,cgpa)\n",
        "    return obj\n",
        "s1 = Student(\"Samin\", \"CSE\", 21, 3.91)\n",
        "s1.showDetails()\n",
        "print(\"-----------------------\")\n",
        "s2 = Student(\"Fahim\", \"ECE\", 21, 3.85)\n",
        "s2.showDetails()\n",
        "print(\"-----------------------\")\n",
        "s3 = Student(\"Tahura\", \"EEE\", 22, 3.01)\n",
        "s3.showDetails() \n",
        "print(\"-----------------------\")\n",
        "s4 = Student.from_String(\"Sumaiya-BBA-23-3.96\")\n",
        "s4.showDetails() \n",
        "print(\"Class variables are shared across all instances of a class, while instance variables are unique to each instance\")\n",
        "\n",
        "print(\"Instance methods need a class instance and can access the instance through self . Class methods don't need a class instance. They can't access the instance ( self ) but they have access to the class itself via cls .\")"
      ]
    },
    {
      "cell_type": "code",
      "source": [
        "#Task - 02\n",
        "class Assassin :\n",
        "  killed = 0\n",
        "  def __init__(self,name,success):\n",
        "    self.name = name \n",
        "    self.success = success\n",
        "    Assassin.killed+=1\n",
        "\n",
        "  def printDetails(self):\n",
        "    print(f' Name : {self.name} \\n Success rate : {self.success}% \\n Total number of Assassin : {Assassin.killed}  ')\n",
        "  \n",
        "  @classmethod\n",
        "  def failureRate(cls,name,failr):\n",
        "    success=100-failr\n",
        "    obj=Assassin(name,success)\n",
        "    return obj\n",
        "  @classmethod\n",
        "  def failurePercentage(cls,name,failr):\n",
        "    #fail = failr[:-1]\n",
        "  \n",
        "    success = 100 - int(failr[:-1])\n",
        "\n",
        "    obj = Assassin(name,success)\n",
        "    return obj\n",
        "john_wick = Assassin('John Wick', 100)\n",
        "john_wick.printDetails()\n",
        "print('================================')\n",
        "nagisa = Assassin.failureRate(\"Nagisa\", 20)\n",
        "nagisa.printDetails()\n",
        "print('================================')\n",
        "akabane = Assassin.failurePercentage(\"Akabane\", \"10%\")\n",
        "akabane.printDetails()\n"
      ],
      "metadata": {
        "colab": {
          "base_uri": "https://localhost:8080/"
        },
        "id": "WM_pZElC8iSQ",
        "outputId": "d8abf741-f9cd-4dc3-a327-d09364995d5f"
      },
      "execution_count": 1,
      "outputs": [
        {
          "output_type": "stream",
          "name": "stdout",
          "text": [
            " Name : John Wick \n",
            " Success rate : 100% \n",
            " Total number of Assassin : 1  \n",
            "================================\n",
            " Name : Nagisa \n",
            " Success rate : 80% \n",
            " Total number of Assassin : 2  \n",
            "================================\n",
            " Name : Akabane \n",
            " Success rate : 90% \n",
            " Total number of Assassin : 3  \n"
          ]
        }
      ]
    },
    {
      "cell_type": "code",
      "source": [
        "#Task - 03\n",
        "class Passenger :\n",
        "\n",
        "  count=0\n",
        "\n",
        "  def __init__(self,name):\n",
        "    self.name = name\n",
        "    self.busfare = 450\n",
        "    Passenger.count+=1\n",
        "  def set_bag_weight(self,weight):\n",
        "    self.weight=weight\n",
        "    if self.weight > 50 :\n",
        "      self.busfare += 100\n",
        "    elif self.weight > 20 and self.weight <=50 :\n",
        "      self.busfare += 50\n",
        "  def printDetail(self):\n",
        "    print(f\"Name : {self.name} \\n Bus Fare : {self.busfare} \") \n",
        "print('Total Passenger:', Passenger.count)\n",
        "p1 = Passenger('Jack')\n",
        "p1.set_bag_weight(90)\n",
        "p2 = Passenger('Carol')\n",
        "p2.set_bag_weight(10)\n",
        "p3 = Passenger('Mike')\n",
        "p3.set_bag_weight(25)\n",
        "print(\"=========================\")\n",
        "p1.printDetail()\n",
        "print(\"=========================\")\n",
        "p2.printDetail()\n",
        "print(\"=========================\")\n",
        "p3.printDetail()\n",
        "print(\"=========================\")\n",
        "print('Total Passenger:', Passenger.count)\n"
      ],
      "metadata": {
        "colab": {
          "base_uri": "https://localhost:8080/"
        },
        "id": "BT59np0R8idX",
        "outputId": "fb91e458-fbd4-4892-cf73-7fc517b62290"
      },
      "execution_count": 3,
      "outputs": [
        {
          "output_type": "stream",
          "name": "stdout",
          "text": [
            "Total Passenger: 0\n",
            "=========================\n",
            "Name : Jack \n",
            " Bus Fare : 550 \n",
            "=========================\n",
            "Name : Carol \n",
            " Bus Fare : 450 \n",
            "=========================\n",
            "Name : Mike \n",
            " Bus Fare : 500 \n",
            "=========================\n",
            "Total Passenger: 3\n"
          ]
        }
      ]
    },
    {
      "cell_type": "code",
      "source": [
        "#Task - 04\n",
        "class Travel :\n",
        "  count=0\n",
        "  def __init__(self,source,loca):\n",
        "    self.source = source \n",
        "    self.loca = loca\n",
        "    self.time = 1\n",
        "    Travel.count += 1\n",
        "  def set_time(self,time):\n",
        "    self.time = time\n",
        "  def set_destination(self,loca):\n",
        "    self.loca = loca\n",
        "  def set_source(self,source):\n",
        "    self.source = source\n",
        "  def display_travel_info(self):\n",
        "    return(f\"Source : {self.source} \\nDestination: {self.loca} \\nFlight Time : {self.time}:00\")\n",
        "print('No. of Traveller =', Travel.count)\n",
        "print(\"=======================\")\n",
        "t1 = Travel(\"Dhaka\",\"India\")\n",
        "print(t1.display_travel_info())\n",
        "print(\"=======================\")\n",
        "t2 = Travel(\"Kuala Lampur\",\"Dhaka\")\n",
        "t2.set_time(23)\n",
        "print(t2.display_travel_info())\n",
        "print(\"=======================\")\n",
        "t3 = Travel(\"Dhaka\",\"New_Zealand\")\n",
        "t3.set_time(15)\n",
        "t3.set_destination(\"Germany\")\n",
        "print(t3.display_travel_info())\n",
        "print(\"=======================\")\n",
        "t4 = Travel(\"Dhaka\",\"India\")\n",
        "t4.set_time(9)\n",
        "t4.set_source(\"Malaysia\")\n",
        "t4.set_destination(\"Canada\")\n",
        "print(t4.display_travel_info())\n",
        "print(\"=======================\")\n",
        "print('No. of Traveller =', Travel.count)"
      ],
      "metadata": {
        "colab": {
          "base_uri": "https://localhost:8080/"
        },
        "id": "JcqwHZp2JUgB",
        "outputId": "f119fd56-3fad-47c1-bcb6-b5f7b639580c"
      },
      "execution_count": null,
      "outputs": [
        {
          "output_type": "stream",
          "name": "stdout",
          "text": [
            "No. of Traveller = 0\n",
            "=======================\n",
            "Source : Dhaka \n",
            "Destination: India \n",
            "Flight Time : 1:00\n",
            "=======================\n",
            "Source : Kuala Lampur \n",
            "Destination: Dhaka \n",
            "Flight Time : 23:00\n",
            "=======================\n",
            "Source : Dhaka \n",
            "Destination: Germany \n",
            "Flight Time : 15:00\n",
            "=======================\n",
            "Source : Malaysia \n",
            "Destination: Canada \n",
            "Flight Time : 9:00\n",
            "=======================\n",
            "No. of Traveller = 4\n"
          ]
        }
      ]
    },
    {
      "cell_type": "code",
      "source": [
        "#Task - 05\n",
        "class Employee:\n",
        "  def __init__(self,name,workingPeriod):\n",
        "    self.name = name \n",
        "    self.workingPeriod=workingPeriod\n",
        "  @classmethod\n",
        "  def employeeByJoiningYear(self,name,year):\n",
        "    self.name = name\n",
        "    self.year = year\n",
        "    workingPeriod = 2023 - self.year\n",
        "    obj = Employee(name,workingPeriod)\n",
        "    return obj\n",
        "  @staticmethod\n",
        "  def experienceCheck(wage,gender):\n",
        "\n",
        "    if wage <3 and gender ==\"male\":\n",
        "      return(\"He is not experienced\")\n",
        "    elif wage <3 and gender ==\"female\":\n",
        "      return(\"She is not experienced\")\n",
        "    elif wage >=3 and gender ==\"male\" or gender ==\"female\":\n",
        "      return(\"He is experienced\")\n",
        "    #elif wage  >=3 and gender ==\"female\":\n",
        "      #return(\"She is experienced\") \n",
        "\n",
        "employee1 = Employee('Dororo', 3)\n",
        "employee2 = Employee.employeeByJoiningYear('Harry', 2016)\n",
        "print(employee1.workingPeriod)\n",
        "print(employee2.workingPeriod)\n",
        "print(employee1.name)\n",
        "print(employee2.name)\n",
        "print(Employee.experienceCheck(2, \"male\"))\n",
        "print(Employee.experienceCheck(3, \"female\"))"
      ],
      "metadata": {
        "colab": {
          "base_uri": "https://localhost:8080/"
        },
        "id": "YGTH2NkHMkVn",
        "outputId": "dcd17e3d-2b16-47f4-b6c8-071596c199aa"
      },
      "execution_count": 11,
      "outputs": [
        {
          "output_type": "stream",
          "name": "stdout",
          "text": [
            "3\n",
            "7\n",
            "Dororo\n",
            "Harry\n",
            "He is not experienced\n",
            "He is experienced\n"
          ]
        }
      ]
    },
    {
      "cell_type": "code",
      "source": [
        "#Task - 06\n",
        "class Laptop :\n",
        "  laptopCount = 0\n",
        "  def __init__(self,name,count):\n",
        "    self.name=name\n",
        "    self.count=count\n",
        "    Laptop.laptopCount+=count\n",
        "  @staticmethod \n",
        "  def advantage():\n",
        "    print(\"Laptops are portable\")\n",
        "  @staticmethod\n",
        "  def resetCount():\n",
        "    Laptop.laptopCount = 0\n",
        "lenovo = Laptop(\"Lenovo\", 5)\n",
        "dell = Laptop(\"Dell\", 7)\n",
        "print(lenovo.name, lenovo.count)\n",
        "print(dell.name, dell.count)\n",
        "print(\"Total number of Laptops\", Laptop.laptopCount)\n",
        "Laptop.advantage()\n",
        "Laptop.resetCount()\n",
        "print(\"Total number of Laptops\", Laptop.laptopCount)\n"
      ],
      "metadata": {
        "colab": {
          "base_uri": "https://localhost:8080/"
        },
        "id": "yei4xdCG9_Bt",
        "outputId": "4b78a35b-3f74-4cc8-ca6d-765444550002"
      },
      "execution_count": 4,
      "outputs": [
        {
          "output_type": "stream",
          "name": "stdout",
          "text": [
            "Lenovo 5\n",
            "Dell 7\n",
            "Total number of Laptops 12\n",
            "Laptops are portable\n",
            "Total number of Laptops 0\n"
          ]
        }
      ]
    },
    {
      "cell_type": "code",
      "source": [
        "#Task - 07\n",
        "class Cat:\n",
        "  Number_of_cats = 0\n",
        "  def __init__(self,color,activity):\n",
        "    self.color = color \n",
        "    self.activity = activity\n",
        "    Cat.Number_of_cats  += 1 \n",
        "  def printCat(self):\n",
        "    print(f\"{self.color} cat is {self.activity}\")\n",
        "  def changeColor(self,color):\n",
        "    self.color = color \n",
        "  @staticmethod\n",
        "  def no_parameter():\n",
        "    obj = Cat(\"White\",\"sitting\")\n",
        "    return obj\n",
        "  @classmethod\n",
        "  def first_parameter(cls,color):\n",
        "    obj = Cat(color,\"sitting\")\n",
        "    return obj\n",
        "  @classmethod\n",
        "  def second_parameter(cls,activity):\n",
        "      obj = Cat(\"Grey\",activity)\n",
        "      return obj\n",
        "print(\"Total number of cats:\", Cat.Number_of_cats)\n",
        "c1 = Cat.no_parameter()\n",
        "c2 = Cat.first_parameter(\"Black\")\n",
        "c3 = Cat(\"Brown\", \"jumping\")\n",
        "c4 = Cat(\"Red\", \"purring\")\n",
        "c5 = Cat.second_parameter(\"playing\")\n",
        "print(\"=======================\")\n",
        "c1.printCat()\n",
        "c2.printCat()\n",
        "c3.printCat()\n",
        "c4.printCat()\n",
        "c5.printCat()\n",
        "c1.changeColor(\"Blue\")\n",
        "c3.changeColor(\"Purple\")\n",
        "c1.printCat()\n",
        "c3.printCat()\n",
        "print(\"=======================\")\n",
        "print(\"Total number of cats:\", Cat.Number_of_cats)\n"
      ],
      "metadata": {
        "colab": {
          "base_uri": "https://localhost:8080/"
        },
        "id": "RFQCJAo4Q4l5",
        "outputId": "dab0f5f1-3a5c-452a-a541-af2d353d530b"
      },
      "execution_count": null,
      "outputs": [
        {
          "output_type": "stream",
          "name": "stdout",
          "text": [
            "Total number of cats: 0\n",
            "=======================\n",
            "White is sitting\n",
            "Black is sitting\n",
            "Brown is jumping\n",
            "Red is purring\n",
            "Grey is playing\n",
            "Blue is sitting\n",
            "Purple is jumping\n",
            "=======================\n",
            "Total number of cats: 5\n"
          ]
        }
      ]
    },
    {
      "cell_type": "code",
      "source": [
        "#Task - 08\n",
        "import math\n",
        "class Cylinder :\n",
        "  radius = 5\n",
        "  height = 18\n",
        "  def __init__(self,rad,hei):\n",
        "    self.rad = rad\n",
        "    self.hei= hei\n",
        "    print(f\"Default: radius = {Cylinder.radius} and height = {Cylinder.height} \")\n",
        "    print(f\"Updated : radius = {self.rad} and height = {self.hei} \")\n",
        "    Cylinder.height =self.hei\n",
        "    Cylinder.radius =self.rad\n",
        "  @classmethod\n",
        "  def changeFormat(cls,info):\n",
        "    rad,hei = info.split(\"-\")\n",
        "    obj = Cylinder(float(rad),float(hei))\n",
        "    return obj\n",
        "  @classmethod \n",
        "  def swap(cls,hei,rad):\n",
        "    obj = Cylinder(hei,rad)\n",
        "    return obj\n",
        "  @staticmethod\n",
        "  def area(rad,hei):\n",
        "    print(f\"Area : \", (2*math.pi*rad**2) + (2*math.pi*rad*hei) )\n",
        "  @staticmethod \n",
        "  def volume(rad,hei):\n",
        "    print(f\"Volume: \" , (math.pi*float(rad)**2*float(hei)))\n",
        "c1 = Cylinder(0,0)\n",
        "Cylinder.area(c1.radius,c1.height)\n",
        "Cylinder.volume(c1.radius,c1.height)\n",
        "print(\"===============================\")\n",
        "c2 = Cylinder.swap(8,3)\n",
        "c2.area(c2.radius,c2.height)\n",
        "c2.volume(c2.radius,c2.height)\n",
        "print(\"===============================\")\n",
        "c3 = Cylinder.changeFormat(\"7-13\")\n",
        "c3.area(c3.radius,c3.height)\n",
        "c3.volume(c3.radius,c3.height)\n",
        "print(\"===============================\")\n",
        "Cylinder(0.3,5.56).area(Cylinder.radius,Cylinder.height)\n",
        "print(\"===============================\")\n",
        "Cylinder(3,5).volume(Cylinder.radius,Cylinder.height)\n"
      ],
      "metadata": {
        "colab": {
          "base_uri": "https://localhost:8080/"
        },
        "id": "8DYSfFuCRQq5",
        "outputId": "fd734ef1-7df5-4de8-9bac-8e2b6d00aae1"
      },
      "execution_count": null,
      "outputs": [
        {
          "output_type": "stream",
          "name": "stdout",
          "text": [
            "Default: radius = 5 and height = 18 \n",
            "Updated : radius = 0 and height = 0 \n",
            "Area :  0.0\n",
            "Volume:  0.0\n",
            "===============================\n",
            "Default: radius = 0 and height = 0 \n",
            "Updated : radius = 8 and height = 3 \n",
            "Area :  552.9203070318035\n",
            "Volume:  603.1857894892403\n",
            "===============================\n",
            "Default: radius = 8 and height = 3 \n",
            "Updated : radius = 7.0 and height = 13.0 \n",
            "Area :  879.645943005142\n",
            "Volume:  2001.1945203366981\n",
            "===============================\n",
            "Default: radius = 7.0 and height = 13.0 \n",
            "Updated : radius = 0.3 and height = 5.56 \n",
            "Area :  11.045839770021713\n",
            "===============================\n",
            "Default: radius = 0.3 and height = 5.56 \n",
            "Updated : radius = 3 and height = 5 \n",
            "Volume:  141.3716694115407\n"
          ]
        }
      ]
    },
    {
      "cell_type": "code",
      "source": [
        "#Task - 09\n",
        "class Student:\n",
        "    total_student = 0\n",
        "    bracu_student = 0\n",
        "    other_student = 0\n",
        "    \n",
        "    def __init__(self,name,dept,ins = \"BRAC University\"):\n",
        "        self.name = name\n",
        "        self.dept = dept\n",
        "        self.ins = ins\n",
        "        Student.total_student += 1\n",
        "        if self.ins == \"BRAC University\":\n",
        "            Student.bracu_student += 1\n",
        "        else:\n",
        "            Student.other_student += 1\n",
        "    @classmethod\n",
        "    def printDetails(cls):\n",
        "        print(f\" Total Student(s): {Student.total_student} \\n BRAC University Student(s): {Student.bracu_student }\\nOther Institution Student(s): {Student.other_student }\")\n",
        "    def individualDetail(self):\n",
        "        print(f\" Name:{self.name} \\n Department: {self.dept} \\n Institute: {self.ins}\")\n",
        "    @classmethod\n",
        "    def createStudent(cls,name,dept,ins= \"BRAC University\"):\n",
        "        obj = Student(name,dept,ins)\n",
        "        return obj\n",
        "\n",
        "\n",
        "Student.printDetails()\n",
        "print('#########################')\n",
        "\n",
        "mikasa = Student('Mikasa Ackeran', \"CSE\")\n",
        "mikasa.individualDetail()\n",
        "print('------------------------------------------')\n",
        "Student.printDetails()\n",
        "\n",
        "print('========================')\n",
        "\n",
        "harry = Student.createStudent('Harry Potter', \"Defence Against Dark Arts\", \"Hogwarts School\")\n",
        "harry.individualDetail()\n",
        "print('-------------------------------------------')\n",
        "Student.printDetails()\n",
        "\n",
        "print('=========================')\n",
        "\n",
        "levi = Student.createStudent(\"Levi Ackerman\", \"CSE\")\n",
        "levi.individualDetail()\n",
        "print('--------------------------------------------')\n",
        "Student.printDetails()\n"
      ],
      "metadata": {
        "colab": {
          "base_uri": "https://localhost:8080/"
        },
        "id": "-5aoiBX2W6BL",
        "outputId": "104be181-dbe2-4898-e00a-bfdf8960726a"
      },
      "execution_count": null,
      "outputs": [
        {
          "output_type": "stream",
          "name": "stdout",
          "text": [
            " Total Student(s): 0 \n",
            " BRAC University Student(s): 0\n",
            "Other Institution Student(s): 0\n",
            "#########################\n",
            " Name:Mikasa Ackeran \n",
            " Department: CSE \n",
            " Institute: BRAC University\n",
            "------------------------------------------\n",
            " Total Student(s): 1 \n",
            " BRAC University Student(s): 1\n",
            "Other Institution Student(s): 0\n",
            "========================\n",
            " Name:Harry Potter \n",
            " Department: Defence Against Dark Arts \n",
            " Institute: Hogwarts School\n",
            "-------------------------------------------\n",
            " Total Student(s): 2 \n",
            " BRAC University Student(s): 1\n",
            "Other Institution Student(s): 1\n",
            "=========================\n",
            " Name:Levi Ackerman \n",
            " Department: CSE \n",
            " Institute: BRAC University\n",
            "--------------------------------------------\n",
            " Total Student(s): 3 \n",
            " BRAC University Student(s): 2\n",
            "Other Institution Student(s): 1\n"
          ]
        }
      ]
    },
    {
      "cell_type": "code",
      "source": [
        "#Task10\n",
        "\n",
        "class SultansDine:\n",
        "    num_of_branches = 0\n",
        "    total_sell = 0\n",
        "    output = []\n",
        "    def __init__(self,location):\n",
        "        self.location = location\n",
        "        SultansDine.num_of_branches += 1\n",
        "        SultansDine.output.append(self)\n",
        "    \n",
        "    def sellQuantity(self,quantity):\n",
        "        if quantity <10:\n",
        "            self.branch_sell = quantity*300\n",
        "        elif quantity >=10 and quantity<20:\n",
        "            self.branch_sell = quantity*350\n",
        "        else:\n",
        "            self.branch_sell = quantity*400\n",
        "        SultansDine.total_sell += self.branch_sell\n",
        "        \n",
        "    \n",
        "    def branchInformation(self):\n",
        "        x = (f\"Branch Name: {self.location}\\nBranch Sell: {self.branch_sell}\")\n",
        "        print(x)\n",
        "        \n",
        "    @classmethod\n",
        "    def details(cls):\n",
        "        print(f\"Total Number of branch(s): {SultansDine.num_of_branches}\\nTotal Sell: {SultansDine.total_sell} Taka\")\n",
        "        for i in SultansDine.output:\n",
        "            print(f\"Branch Name: {i.location}, Branch Sell: {i.branch_sell} Taka\")\n",
        "            i.percentage = (i.branch_sell/SultansDine.total_sell)*100\n",
        "            print(\"Branch consists of total sell's:\", str(\"{:.2f}\".format(i.percentage))+\"%\")\n",
        "        \n",
        "SultansDine.details()\n",
        "print('########################')\n",
        "dhanmodi = SultansDine('Dhanmondi')\n",
        "dhanmodi.sellQuantity(25)\n",
        "dhanmodi.branchInformation()\n",
        "print('-----------------------------------------')\n",
        "SultansDine.details()\n",
        "print('========================')\n",
        "baily_road = SultansDine('Baily Road')\n",
        "baily_road.sellQuantity(15)\n",
        "baily_road.branchInformation()\n",
        "print('-----------------------------------------')\n",
        "SultansDine.details()\n",
        "print('========================')\n",
        "gulshan = SultansDine('Gulshan')\n",
        "gulshan.sellQuantity(9)\n",
        "gulshan.branchInformation()\n",
        "print('-----------------------------------------')\n",
        "SultansDine.details()\n"
      ],
      "metadata": {
        "id": "7gkquK_TRjOz",
        "colab": {
          "base_uri": "https://localhost:8080/"
        },
        "outputId": "4e6103ef-28d3-42fe-b677-5c7db445b195"
      },
      "execution_count": 5,
      "outputs": [
        {
          "output_type": "stream",
          "name": "stdout",
          "text": [
            "Total Number of branch(s): 0\n",
            "Total Sell: 0 Taka\n",
            "########################\n",
            "Branch Name: Dhanmondi\n",
            "Branch Sell: 10000\n",
            "-----------------------------------------\n",
            "Total Number of branch(s): 1\n",
            "Total Sell: 10000 Taka\n",
            "Branch Name: Dhanmondi, Branch Sell: 10000 Taka\n",
            "Branch consists of total sell's: 100.00%\n",
            "========================\n",
            "Branch Name: Baily Road\n",
            "Branch Sell: 5250\n",
            "-----------------------------------------\n",
            "Total Number of branch(s): 2\n",
            "Total Sell: 15250 Taka\n",
            "Branch Name: Dhanmondi, Branch Sell: 10000 Taka\n",
            "Branch consists of total sell's: 65.57%\n",
            "Branch Name: Baily Road, Branch Sell: 5250 Taka\n",
            "Branch consists of total sell's: 34.43%\n",
            "========================\n",
            "Branch Name: Gulshan\n",
            "Branch Sell: 2700\n",
            "-----------------------------------------\n",
            "Total Number of branch(s): 3\n",
            "Total Sell: 17950 Taka\n",
            "Branch Name: Dhanmondi, Branch Sell: 10000 Taka\n",
            "Branch consists of total sell's: 55.71%\n",
            "Branch Name: Baily Road, Branch Sell: 5250 Taka\n",
            "Branch consists of total sell's: 29.25%\n",
            "Branch Name: Gulshan, Branch Sell: 2700 Taka\n",
            "Branch consists of total sell's: 15.04%\n"
          ]
        }
      ]
    },
    {
      "cell_type": "code",
      "source": [
        "class Puzzle:\n",
        "    x = 0\n",
        "    def methodA(self):\n",
        "        Puzzle.x = 5 \n",
        "        z = Puzzle.x + self.methodB(Puzzle.x)\n",
        "        print(Puzzle.x, z)\n",
        "        z = self.methodB(z + 2) + Puzzle.x\n",
        "        print(Puzzle.x, z)\n",
        "        self.methodB(Puzzle.x, z)\n",
        "        print(Puzzle.x, z)\n",
        "    def methodB(self, *args):\n",
        "        if len(args) == 1:\n",
        "            y = args[0]\n",
        "            Puzzle.x = y + Puzzle.x\n",
        "            print(Puzzle.x, y)\n",
        "            return Puzzle.x + 3\n",
        "        else:\n",
        "            z, x = args\n",
        "            z = z + 1\n",
        "            x = x + 1\n",
        "            print(z, x)\n",
        "\n",
        "p = Puzzle()\n",
        "p.methodA()\n",
        "p.methodA()\n",
        "p = Puzzle()\n",
        "p.methodA()\n",
        "p.methodB(7)"
      ],
      "metadata": {
        "colab": {
          "base_uri": "https://localhost:8080/"
        },
        "id": "c5R8tQtU-or8",
        "outputId": "8ec1d271-dfc9-4e15-ca93-d2e87bf0cdc2"
      },
      "execution_count": 6,
      "outputs": [
        {
          "output_type": "stream",
          "name": "stdout",
          "text": [
            "10 5\n",
            "10 18\n",
            "30 20\n",
            "30 63\n",
            "31 64\n",
            "30 63\n",
            "10 5\n",
            "10 18\n",
            "30 20\n",
            "30 63\n",
            "31 64\n",
            "30 63\n",
            "10 5\n",
            "10 18\n",
            "30 20\n",
            "30 63\n",
            "31 64\n",
            "30 63\n",
            "37 7\n"
          ]
        },
        {
          "output_type": "execute_result",
          "data": {
            "text/plain": [
              "40"
            ]
          },
          "metadata": {},
          "execution_count": 6
        }
      ]
    },
    {
      "cell_type": "code",
      "source": [
        "#Task - 12\n",
        "class FinalT6A:\n",
        "    temp = 3\n",
        " \n",
        "    def __init__(self, x, p):\n",
        "        self.sum, self.y = 0, 2\n",
        "        FinalT6A.temp += 3\n",
        "        self.y = self.temp - p\n",
        "        self.sum = self.temp + x\n",
        "        print(x, self.y, self.sum)\n",
        "    \n",
        "    def methodA(self):\n",
        "        x, y = 0, 0\n",
        "        y = y + self.y\n",
        "        x = self.y + 2 + self.temp\n",
        "        self.sum = x + y + self.methodB(self.temp, y)\n",
        "        print(x, y, self.sum)\n",
        "    \n",
        "    def methodB(self, temp, n):\n",
        "\n",
        "        x = 0\n",
        "        FinalT6A.temp += 1\n",
        "        self.y = self.y + (FinalT6A.temp)\n",
        "        FinalT6A.temp -= 1\n",
        "        x = x + 2 + n\n",
        "        self.sum = self.sum + x + self.y\n",
        "        print(x, self.y, self.sum)\n",
        "        return self.sum\n",
        "\n",
        "q1 = FinalT6A(2,1)\n",
        "q1.methodA()\n",
        "q1.methodA()\n"
      ],
      "metadata": {
        "colab": {
          "base_uri": "https://localhost:8080/"
        },
        "id": "68nG63A3-ovi",
        "outputId": "836d4ec6-7b55-47bd-9f3c-aed41b35a7be"
      },
      "execution_count": 8,
      "outputs": [
        {
          "output_type": "stream",
          "name": "stdout",
          "text": [
            "2 5 8\n",
            "7 12 27\n",
            "13 5 45\n",
            "14 19 78\n",
            "20 12 110\n"
          ]
        }
      ]
    },
    {
      "cell_type": "code",
      "source": [
        "#task - 13\n",
        "class A:\n",
        "    temp = 4\n",
        "    def __init__(self):\n",
        "        self.y = self.temp - 2\n",
        "        self.sum = self.temp + 1\n",
        "        A.temp -= 2\n",
        "        self.methodA(3, 4)\n",
        "    def methodA(self, m, n):\n",
        "        x = 0\n",
        "        self.y = self.y + m + (self.temp)\n",
        "        A.temp += 1\n",
        "        x = x + 1 + n\n",
        "        self.sum = self.sum + x + self.y\n",
        "        print(x, self.y, self.sum)\n",
        "    \n",
        "class B:\n",
        "    x = 0\n",
        "    def __init__(self, b = None):\n",
        "        self.y, self.temp, self.sum = 5, -5, 2\n",
        " \n",
        "        if b == None:\n",
        "            self.y = self.temp + 3\n",
        "            self.sum = 3 + self.temp + 2\n",
        "            self.temp -= 2\n",
        "        else:\n",
        "            self.sum = b.sum\n",
        "            B.x = b.x\n",
        "            b.methodB(2, 3)\n",
        "    def methodA(self, m, n):\n",
        "        x = 2\n",
        "        self.y = self.y + m + (self.temp)\n",
        "        self.temp += 1\n",
        "        x = x + 5 + n\n",
        "        self.sum = self.sum + x + self.y\n",
        "        print(x, self.y, self.sum)\n",
        "    def methodB(self, m, n):\n",
        "        y = 0\n",
        "        y = y + self.y\n",
        "        B.x = self.y + 2 + self.temp\n",
        "        self.methodA(self.x, y)\n",
        "        self.sum = self.x + y + self.sum\n",
        "        print(self.x, y, self.sum)\n",
        "\n",
        "\n",
        "a1 = A()\n",
        "b1 = B()\n",
        "b2 = B(b1)\n",
        "b1.methodA(1,2)\n",
        "b2.methodB(3,2)"
      ],
      "metadata": {
        "colab": {
          "base_uri": "https://localhost:8080/"
        },
        "id": "0cVeNB8R-oy7",
        "outputId": "a743ba39-bfe2-4be6-f1a0-5dfcc2c3c0a2"
      },
      "execution_count": 9,
      "outputs": [
        {
          "output_type": "stream",
          "name": "stdout",
          "text": [
            "5 7 17\n",
            "5 -16 -11\n",
            "-7 -2 -20\n",
            "9 -21 -32\n",
            "12 2 14\n",
            "2 5 21\n"
          ]
        }
      ]
    },
    {
      "cell_type": "code",
      "source": [
        "#Task - 14\n",
        "class msgClass:\n",
        "    def __init__(self):\n",
        "        self.content = 0\n",
        " \n",
        "class Quiz3:\n",
        "    x = 0\n",
        "    def __init__(self, k = None):\n",
        "        self.sum, self.y = 0, 0\n",
        "        if k is None:\n",
        "            self.sum = 5\n",
        "            Quiz3.x = 2\n",
        "            self.y = 2\n",
        "        else:\n",
        "            self.sum = self.sum + k\n",
        "            self.y = 3\n",
        "            Quiz3.x += 2    \n",
        "    def methodA(self):\n",
        "        x = 1\n",
        "        y = 1\n",
        "        msg = [None]\n",
        "        myMsg = msgClass()\n",
        "        myMsg.content = Quiz3.x\n",
        "        msg[0] = myMsg\n",
        "        msg[0].content = self.y + myMsg.content\n",
        "        self.y = self.y + self.methodB(msg[0])\n",
        "        y = self.methodB(msg[0]) + self.y\n",
        "        x = y + self.methodB(msg, msg[0])\n",
        "        self.sum = x + y + msg[0].content\n",
        "        print(x, y, self.sum)\n",
        "    def methodB(self, *args):\n",
        "        if len(args) == 2:\n",
        "            mg2, mg1 = args\n",
        "            x = 2\n",
        "            self.y = self.y + mg2[0].content\n",
        "            mg2[0].content = self.y + mg1.content\n",
        "            x = x + 2 + mg1.content\n",
        "            self.sum = self.sum + x + self.y\n",
        "            mg1.content = self.sum - mg2[0].content\n",
        "            print(Quiz3.x, self.y, self.sum)\n",
        "            return self.sum\n",
        "        \n",
        "        elif len(args) == 1:\n",
        "            mg1, = args\n",
        "            x = 1\n",
        "            y = 2\n",
        "            y = self.sum + mg1.content\n",
        "\n",
        "            self.y = y + mg1.content\n",
        "            x = Quiz3.x + 5 + mg1.content\n",
        "            self.sum = self.sum + x + y\n",
        "            Quiz3.x = mg1.content + x + 3\n",
        "            print(x, y, self.sum)\n",
        "            return y\n",
        "\n",
        "a1 = Quiz3()\n",
        "a2 = Quiz3(5)\n",
        "msg = msgClass()\n",
        "a1.methodA()\n",
        "a2.methodB(msg)\n",
        "\n"
      ],
      "metadata": {
        "colab": {
          "base_uri": "https://localhost:8080/"
        },
        "id": "orxkVkrvAIay",
        "outputId": "e0d77e3e-b2ee-40d9-bbaa-39a1137dfa63"
      },
      "execution_count": 10,
      "outputs": [
        {
          "output_type": "stream",
          "name": "stdout",
          "text": [
            "15 11 31\n",
            "35 37 103\n",
            "44 49 211\n",
            "291 80 527\n",
            "49 5 59\n"
          ]
        },
        {
          "output_type": "execute_result",
          "data": {
            "text/plain": [
              "5"
            ]
          },
          "metadata": {},
          "execution_count": 10
        }
      ]
    }
  ]
}