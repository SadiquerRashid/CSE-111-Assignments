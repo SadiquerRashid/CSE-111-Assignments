{
  "cells": [
    {
      "cell_type": "code",
      "execution_count": null,
      "metadata": {
        "colab": {
          "base_uri": "https://localhost:8080/"
        },
        "id": "AA6feLl4xtz-",
        "outputId": "75545a52-12a4-4527-b121-636d232e82ca"
      },
      "outputs": [
        {
          "name": "stdout",
          "output_type": "stream",
          "text": [
            "Integer\n",
            "1234\n",
            "=====================\n",
            "String\n",
            "Hello\n",
            "=====================\n",
            "Float\n",
            "4.0\n"
          ]
        }
      ],
      "source": [
        "#Task-01\n",
        "class DataType:\n",
        "  def __init__(self,name,value):\n",
        "    self.name = name \n",
        "    self.value = value\n",
        "#Write your class code here\n",
        "data_type1 = DataType(\"Integer\", 1234)\n",
        "print(data_type1.name)\n",
        "print(data_type1.value)\n",
        "print('=====================')\n",
        "data_type2 = DataType(\"String\", \"Hello\")\n",
        "print(data_type2.name)\n",
        "print(data_type2.value)\n",
        "print('=====================')\n",
        "data_type3 = DataType(\"Float\", 4.0)\n",
        "print(data_type3.name)\n",
        "print(data_type3.value)\n"
      ]
    },
    {
      "cell_type": "code",
      "execution_count": null,
      "metadata": {
        "colab": {
          "base_uri": "https://localhost:8080/"
        },
        "id": "1QMHMmoiywan",
        "outputId": "13755e88-6daa-4049-b112-13ec3b029cf7"
      },
      "outputs": [
        {
          "name": "stdout",
          "output_type": "stream",
          "text": [
            "Heath Ledger\n",
            "Mind Game\n",
            "False\n",
            "=====================\n",
            "Joaquin Phoenix\n",
            "Laughing out Loud\n",
            "True\n",
            "=====================\n",
            "different\n",
            "same\n",
            "\n",
            "The first if else block prints different beacuse j1 and j2 are from different location j1 is <__main__.Joker object at 0x7fcf622e7a30> and <__main__.Joker object at 0x7fcf622e77c0>  \n",
            " \n",
            "The second if else block prints same because we updated the name to Heath Ledger and then we compared them both\n"
          ]
        }
      ],
      "source": [
        "#Task- 02 \n",
        "class Joker:\n",
        "  def __init__(self,name,power,is_he_psycho):\n",
        "    self.name=name \n",
        "    self.power=power\n",
        "    self.is_he_psycho=is_he_psycho\n",
        "\n",
        "\n",
        "\n",
        "j1 = Joker('Heath Ledger', 'Mind Game', False)\n",
        "print(j1.name)\n",
        "print(j1.power)\n",
        "print(j1.is_he_psycho)\n",
        "print(\"=====================\")\n",
        "j2 = Joker('Joaquin Phoenix', 'Laughing out Loud', True)\n",
        "print(j2.name)\n",
        "print(j2.power)\n",
        "print(j2.is_he_psycho)\n",
        "print(\"=====================\")\n",
        "if j1 == j2:\n",
        "    print('same')\n",
        "else:\n",
        "    print('different')\n",
        "j2.name = 'Heath Ledger'\n",
        "if j1.name == j2.name:\n",
        "    print('same')\n",
        "else:\n",
        "    print('different')\n",
        "#Write your code for 2,3 here\n",
        "\n",
        "print(f\"\\nThe first if else block prints different beacuse j1 and j2 are from different location j1 is {j1} and {j2}  \\n \")\n",
        "print(f\"The second if else block prints same because we updated the name to {j2.name} and then we compared them both\")"
      ]
    },
    {
      "cell_type": "code",
      "execution_count": null,
      "metadata": {
        "colab": {
          "base_uri": "https://localhost:8080/"
        },
        "id": "XePEKfTy9jMc",
        "outputId": "50c8d081-3988-49f3-f4cc-29af6c5fc584"
      },
      "outputs": [
        {
          "name": "stdout",
          "output_type": "stream",
          "text": [
            "=======Team 1=======\n",
            "Pokemon 1: pikachu 90\n",
            "Pokemon 2: charmander 60\n",
            "Combined Power: 1500\n",
            "=======Team 2=======\n",
            "pokemon 1 :  bulbasaur 80\n",
            "pokemon 2 :  squirtle 70\n",
            "Combined Power: 1350\n"
          ]
        }
      ],
      "source": [
        "#Task 03\n",
        "class Pokemon :\n",
        "  def __init__(self,pokemon1_name , pokemon2_name , pokemon1_power , pokemon2_power , damage_rate ):\n",
        "    self.pokemon1_name = pokemon1_name\n",
        "    self.pokemon2_name = pokemon2_name\n",
        "    self.pokemon1_power = pokemon1_power\n",
        "    self.pokemon2_power = pokemon2_power\n",
        "    self.damage_rate = damage_rate\n",
        "\n",
        "\n",
        "#Write your code for class here\n",
        "team_pika = Pokemon('pikachu', 'charmander', 90, 60, 10)\n",
        "print('=======Team 1=======')\n",
        "print('Pokemon 1:',team_pika.pokemon1_name, team_pika.pokemon1_power)\n",
        "print('Pokemon 2:',team_pika.pokemon2_name, team_pika.pokemon2_power)\n",
        "pika_combined_power = (team_pika.pokemon1_power + team_pika.pokemon2_power) * team_pika.damage_rate\n",
        "print('Combined Power:', pika_combined_power)\n",
        "#Write your code for subtask 2,3,4 here\n",
        "team_bulb = Pokemon('bulbasaur', 'squirtle', 80, 70, 9)\n",
        "print('=======Team 2=======')\n",
        "print(\"pokemon 1 : \",team_bulb.pokemon1_name,team_bulb.pokemon1_power)\n",
        "print(\"pokemon 2 : \" , team_bulb.pokemon2_name,team_bulb.pokemon2_power)\n",
        "bulb_combined_power = (team_bulb.pokemon1_power+ team_bulb.pokemon2_power)*team_bulb.damage_rate\n",
        "print('Combined Power:', bulb_combined_power)\n"
      ]
    },
    {
      "cell_type": "code",
      "execution_count": null,
      "metadata": {
        "colab": {
          "base_uri": "https://localhost:8080/"
        },
        "id": "057DHjbx1RCl",
        "outputId": "9ffd2387-06e7-454a-db0c-7b649b33d529"
      },
      "outputs": [
        {
          "name": "stdout",
          "output_type": "stream",
          "text": [
            "Name: Bangladesh\n",
            "Continent: Asia\n",
            "Capital: Dhaka\n",
            "Fifa Ranking: 187\n",
            "===================\n",
            "Name: Belgium\n",
            "Continent: Europe\n",
            "Capital: Brussels\n",
            "Fifa Ranking: 1\n"
          ]
        }
      ],
      "source": [
        "#Task-04\n",
        "# Write your Class Code here\n",
        "class Country:\n",
        "  def __init__(self):\n",
        "    pass\n",
        "    self.name = \"Bangladesh\"\n",
        "    self.continent=\"Asia\"\n",
        "    self.capital=\"Dhaka\"\n",
        "    self.fifa_ranking= 187\n",
        "\n",
        "\n",
        "country = Country()\n",
        "print('Name:',country.name)\n",
        "print('Continent:',country.continent)\n",
        "print('Capital:',country.capital)\n",
        "print('Fifa Ranking:',country.fifa_ranking)\n",
        "print('===================')\n",
        "country.name = \"Belgium\"\n",
        "country.continent = \"Europe\"\n",
        "country.capital = \"Brussels\"\n",
        "country.fifa_ranking = 1\n",
        "print('Name:',country.name)\n",
        "print('Continent:',country.continent)\n",
        "print('Capital:',country.capital)\n",
        "print('Fifa Ranking:',country.fifa_ranking)\n"
      ]
    },
    {
      "cell_type": "code",
      "execution_count": null,
      "metadata": {
        "colab": {
          "base_uri": "https://localhost:8080/"
        },
        "id": "AQqJmThm-nhE",
        "outputId": "4f57b26b-ae8f-4f27-ccf1-6e9a3f61f25d"
      },
      "outputs": [
        {
          "name": "stdout",
          "output_type": "stream",
          "text": [
            "Name: Tanjiro\n",
            "Fighting Style: Water Breathing\n",
            "Knows 10 technique(s) and has killed 10 demon(s)\n",
            "===================\n",
            "Name: Zenitsu\n",
            "Fighting Style: Thunder Breathing\n",
            "Knows 1 technique(s) and has killed 4 demon(s)\n",
            "===================\n",
            "Name: Inosuke\n",
            "Fighting Style: Beast Breathing\n",
            "Knows 5 technique(s) and has killed 7 demon(s)\n",
            "===================\n",
            "Tanjiro, Zenitsu, Inosuke knows total 16 techniques\n",
            "They have killed total 21 demons\n"
          ]
        }
      ],
      "source": [
        "#Task-05\n",
        "\n",
        "class DemonSlayer:\n",
        "  def __init__(self,name,style,number_of_technique,kill):\n",
        "    self.name = name\n",
        "    self.style = style\n",
        "    self.number_of_technique = number_of_technique\n",
        "    self.kill = kill\n",
        "# Write your Class Code here\n",
        "\n",
        "tanjiro = DemonSlayer(\"Tanjiro\", \"Water Breathing\", 10, 10)\n",
        "print('Name:',tanjiro.name)\n",
        "print('Fighting Style:',tanjiro.style)\n",
        "print(f'Knows {tanjiro.number_of_technique} technique(s) and has killed {tanjiro.kill} demon(s)')\n",
        "print('===================')\n",
        "zenitsu = DemonSlayer(\"Zenitsu\", \"Thunder Breathing\", 1, 4)\n",
        "print('Name:',zenitsu.name)\n",
        "print('Fighting Style:',zenitsu.style)\n",
        "print(f'Knows {zenitsu.number_of_technique} technique(s) and has killed {zenitsu.kill} demon(s)')\n",
        "print('===================')\n",
        "inosuke = DemonSlayer(\"Inosuke\", \"Beast Breathing\", 5, 7)\n",
        "print('Name:',inosuke.name)\n",
        "print('Fighting Style:',inosuke.style)\n",
        "print(f'Knows {inosuke.number_of_technique} technique(s) and has killed {inosuke.kill} demon(s)')\n",
        "print('===================')\n",
        "print(f'{tanjiro.name}, {zenitsu.name}, {inosuke.name} knows total {tanjiro.number_of_technique + zenitsu.number_of_technique + inosuke.number_of_technique} techniques')\n",
        "print(f'They have killed total {tanjiro.kill + zenitsu.kill + inosuke.kill} demons')\n"
      ]
    },
    {
      "cell_type": "code",
      "execution_count": null,
      "metadata": {
        "colab": {
          "base_uri": "https://localhost:8080/"
        },
        "id": "h-U6Y_2N5Fwr",
        "outputId": "7ac1af0a-568f-43fd-a1bd-54c5b4e53a61"
      },
      "outputs": [
        {
          "name": "stdout",
          "output_type": "stream",
          "text": [
            "Box 1\n",
            "creating a Box\n",
            "volume of the Box = 1000\n",
            "=========================\n",
            "Height: 10\n",
            "Width: 10\n",
            "Breadth: 10\n",
            "-------------------------\n",
            "Box 2\n",
            "creating a Box\n",
            "volume of the Box = 3000\n",
            "=========================\n",
            "Height: 30\n",
            "Width: 10\n",
            "Breadth: 10\n",
            "Updating Box 2!\n",
            "Height: 300\n",
            "Width: 10\n",
            "Breadth: 10\n",
            "-------------------------\n",
            "Box 3\n",
            "Height: 300\n",
            "Width: 10\n",
            "Breadth: 10\n"
          ]
        }
      ],
      "source": [
        "#Task - 06\n",
        "class box:\n",
        "  def __init__(self,measure):\n",
        "    self.height = measure[0]\n",
        "    self.width = measure[1]\n",
        "    self.breadth = measure[2]\n",
        "    print(\"creating a Box!\")\n",
        "    print(f\"volume of the Box = {self.height*self.width*self.breadth}\")\n",
        "print(\"Box 1\")\n",
        "b1 = box([10,10,10])\n",
        "print(\"=========================\")\n",
        "print(\"Height:\", b1.height)\n",
        "print(\"Width:\", b1.width)\n",
        "print(\"Breadth:\", b1.breadth)\n",
        "print(\"-------------------------\")\n",
        "print(\"Box 2\")\n",
        "b2 = box((30,10,10))\n",
        "print(\"=========================\")\n",
        "print(\"Height:\", b2.height)\n",
        "print(\"Width:\", b2.width)\n",
        "print(\"Breadth:\", b2.breadth)\n",
        "b2.height = 300\n",
        "print(\"Updating Box 2!\")\n",
        "print(\"Height:\", b2.height)\n",
        "print(\"Width:\", b2.width)\n",
        "print(\"Breadth:\", b2.breadth)\n",
        "print(\"-------------------------\")\n",
        "print(\"Box 3\")\n",
        "b3 = b2\n",
        "print(\"Height:\", b3.height)\n",
        "print(\"Width:\", b3.width)\n",
        "print(\"Breadth:\", b3.breadth)\n"
      ]
    },
    {
      "cell_type": "code",
      "execution_count": null,
      "metadata": {
        "colab": {
          "base_uri": "https://localhost:8080/"
        },
        "id": "ZLKMhQKMBDrF",
        "outputId": "89ba4c79-ced4-4c7c-826d-a4407386842c"
      },
      "outputs": [
        {
          "name": "stdout",
          "output_type": "stream",
          "text": [
            "CANCEL Button Specifications:\n",
            "Button name:  CANCEL\n",
            "Number of the border characters for the top and the bottom: 28\n",
            "Number of spaces between the left side border and the first character of the button name: 10\n",
            "Number of spaces between the right side border and the last character of the button name: 10\n",
            "Characters representing the borders: x\n",
            "xxxxxxxxxxxxxxxxxxxxxxxxxxxx\n",
            "x          CANCEL          x\n",
            "xxxxxxxxxxxxxxxxxxxxxxxxxxxx\n",
            "=======================================================\n",
            "Notify Button Specifications:\n",
            "Button name:  Notify\n",
            "Number of the border characters for the top and the bottom: 14\n",
            "Number of spaces between the left side border and the first character of the button name: 3\n",
            "Number of spaces between the right side border and the last character of the button name: 3\n",
            "Characters representing the borders: !\n",
            "!!!!!!!!!!!!!!\n",
            "!   Notify   !\n",
            "!!!!!!!!!!!!!!\n",
            "=======================================================\n",
            "SAVE PROGRESS Button Specifications:\n",
            "Button name:  SAVE PROGRESS\n",
            "Number of the border characters for the top and the bottom: 25\n",
            "Number of spaces between the left side border and the first character of the button name: 5\n",
            "Number of spaces between the right side border and the last character of the button name: 5\n",
            "Characters representing the borders: $\n",
            "$$$$$$$$$$$$$$$$$$$$$$$$$\n",
            "$     SAVE PROGRESS     $\n",
            "$$$$$$$$$$$$$$$$$$$$$$$$$\n"
          ]
        }
      ],
      "source": [
        "#task-07\n",
        "class buttons :\n",
        "  def __init__(self,word,spaces,border):\n",
        "    self.word=word\n",
        "    self.spaces=spaces\n",
        "    self.border=border\n",
        "    num_of_border_char = 2+len(word)+2*spaces\n",
        "    print(word,\"Button Specifications:\")\n",
        "    print(\"Button name: \",word)\n",
        "    print(\"Number of the border characters for the top and the bottom:\",num_of_border_char)\n",
        "    print(\"Number of spaces between the left side border and the first character of the button name:\",spaces)\n",
        "    print(\"Number of spaces between the right side border and the last character of the button name:\",spaces)\n",
        "    print(\"Characters representing the borders:\",border)\n",
        "    print(border*(num_of_border_char))\n",
        "    print(border + \" \"*spaces + word + \" \"*spaces + border)\n",
        "    print(border*(num_of_border_char))\n",
        "\n",
        "word = \"CANCEL\"  \n",
        "spaces = 10\n",
        "border = 'x'\n",
        "b1 = buttons(word, spaces, border)\n",
        "print(\"=======================================================\")\n",
        "b2 = buttons(\"Notify\",3, '!')\n",
        "print(\"=======================================================\")\n",
        "b3 = buttons('SAVE PROGRESS', 5, '$')\n"
      ]
    },
    {
      "cell_type": "code",
      "execution_count": null,
      "metadata": {
        "colab": {
          "base_uri": "https://localhost:8080/"
        },
        "id": "vRMeqP8Vs1w-",
        "outputId": "6ee85c2a-4280-4ca6-fdbd-eb4073b281bc"
      },
      "outputs": [
        {
          "name": "stdout",
          "output_type": "stream",
          "text": [
            "Let's Calculate\n",
            "enter the 1st number : 1\n",
            "enter the 2nd number : 2\n",
            "enter the operator : +\n",
            "1st Value :  1\n",
            "2nd Value :  2\n",
            "Operator  :  +\n",
            "result 3\n"
          ]
        }
      ],
      "source": [
        "#Task - 08\n",
        "class calculator :\n",
        "  def __init__(self):\n",
        "    print(\"Let's Calculate\")\n",
        "  def add (self,num1,num2):\n",
        "    return num1 + num2 \n",
        "  def substract(self,num1,num2):\n",
        "    return num1 - num2\n",
        "  def multiply (self, num1 , num2):\n",
        "    return num1*num2\n",
        "  def divide(self,num1,num2):\n",
        "    return num1/num2\n",
        "\n",
        "cal1 =calculator()\n",
        "num1 = int(input(\"enter the 1st number : \"))\n",
        "num2 = int(input(\"enter the 2nd number : \"))\n",
        "z = input(\"enter the operator : \")\n",
        "print(\"1st Value : \" , num1 )\n",
        "print(\"2nd Value : \" , num2 )\n",
        "print(\"Operator  : \" , z )\n",
        "if z == \"+\":\n",
        "  print(\"result\" , cal1.add(num1,num2))\n",
        "elif z==\"-\":\n",
        "  print(\"result\", cal1.substract(num1,num2))\n",
        "elif z==\"*\":\n",
        "  print(\"result\",cal1.multiply(num1,num2))\n",
        "elif z==\"/\":\n",
        "  print(\"result \",cal1.divide(num1,num2))\n"
      ]
    },
    {
      "cell_type": "code",
      "execution_count": null,
      "metadata": {
        "colab": {
          "base_uri": "https://localhost:8080/"
        },
        "id": "PJIYPfQFB3qM",
        "outputId": "ecc98187-253d-47b7-ad4b-5e1eb2bb20c6"
      },
      "outputs": [
        {
          "name": "stdout",
          "output_type": "stream",
          "text": [
            " Name : A \n",
            " Age : 55 \n",
            " Weight : 63.0 \n",
            " Height : 158.0 \n",
            " BMI : 25.236340330075304  \n",
            "====================\n",
            " Name : B \n",
            " Age : 53 \n",
            " Weight : 61.0 \n",
            " Height : 149.0 \n",
            " BMI : 27.476239809017613  \n"
          ]
        }
      ],
      "source": [
        "#task-09\n",
        "\n",
        "class Patient:\n",
        "  def __init__(self,a , b , c ,d):\n",
        "    self.a = a\n",
        "    self.b = b\n",
        "    self.c = c\n",
        "    self.d = d\n",
        "  def printDetails(self):\n",
        "    print(f\" Name : {self.a} \\n Age : {self.b} \\n Weight : {self.c} \\n Height : {self.d} \\n BMI : {self.c/(self.d/100)**2}  \")\n",
        "\n",
        "\n",
        "p1 = Patient(\"A\", 55, 63.0, 158.0)\n",
        "p1.printDetails()\n",
        "print(\"====================\")\n",
        "p2 = Patient(\"B\", 53, 61.0, 149.0)\n",
        "p2.printDetails()"
      ]
    },
    {
      "cell_type": "code",
      "execution_count": null,
      "metadata": {
        "colab": {
          "base_uri": "https://localhost:8080/"
        },
        "id": "ZlFcnD1l6zdC",
        "outputId": "302752f2-cda5-4e61-ab0f-224166c94f93"
      },
      "outputs": [
        {
          "name": "stdout",
          "output_type": "stream",
          "text": [
            "(0,0)\n",
            "(0,1)\n",
            "(-1,1)\n",
            "(-1,0)\n"
          ]
        }
      ],
      "source": [
        "#Task - 10 \n",
        "class Vehicle :\n",
        "  def __init__(self,x=None,y=None):\n",
        "    self.x=0\n",
        "    self.y=0\n",
        "  def moveUp(self):\n",
        "    self.y+=1\n",
        "  def moveLeft(self):\n",
        "    self.x-=1\n",
        "  def moveDown(self):\n",
        "    self.y-=1\n",
        "  def moveRight(self):\n",
        "    self.x+=1\n",
        "  def print_position(self):\n",
        "    print(f\"({self.x},{self.y})\")\n",
        "\n",
        "car = Vehicle()\n",
        "car.print_position()\n",
        "car.moveUp()\n",
        "car.print_position()\n",
        "car.moveLeft()\n",
        "car.print_position()\n",
        "car.moveDown()\n",
        "car.print_position()\n",
        "car.moveRight()\n"
      ]
    },
    {
      "cell_type": "code",
      "execution_count": null,
      "metadata": {
        "colab": {
          "base_uri": "https://localhost:8080/"
        },
        "id": "14nNu5GM8nWO",
        "outputId": "4f48a609-bc8b-49c5-a897-12debd676e93"
      },
      "outputs": [
        {
          "name": "stdout",
          "output_type": "stream",
          "text": [
            "Area : 125.0\n",
            "==========================\n",
            "Area : 100\n",
            "==========================\n",
            "Area : 225.0\n",
            "==========================\n",
            "Area : 450\n",
            "==========================\n",
            "Area : Shape Unknown\n"
          ]
        }
      ],
      "source": [
        "#Task - 11\n",
        "class Shape:\n",
        "  def __init__(self,n,h,w):\n",
        "    self.n = n\n",
        "    self.h = h\n",
        "    self.w = w\n",
        "  def area(self):\n",
        "    if self.n ==\"Triangle\":\n",
        "      print(f\"Area : {1/2*self.h*self.w}\")\n",
        "    elif self.n == \"Square\":\n",
        "      print(f\"Area : {self.h*self.w}\")\n",
        "    elif self.n == \"Rhombus\":\n",
        "      print(f\"Area : {1/2*self.h*self.w}\")\n",
        "    elif self.n == \"Rectangle\":\n",
        "      print(f\"Area : {self.h*self.w}\")\n",
        "    elif self.n == \"Trapezium\":\n",
        "      print(f\"Area : Shape Unknown\")\n",
        "\n",
        "\n",
        "\n",
        "\n",
        "  \n",
        "triangle = Shape(\"Triangle\",10,25)\n",
        "triangle.area()\n",
        "print(\"==========================\")\n",
        "square = Shape(\"Square\",10,10)\n",
        "square.area()\n",
        "print(\"==========================\")\n",
        "rhombus = Shape(\"Rhombus\",18,25)\n",
        "rhombus.area()\n",
        "print(\"==========================\")\n",
        "rectangle = Shape(\"Rectangle\",15,30)\n",
        "rectangle.area()\n",
        "print(\"==========================\")\n",
        "trapezium = Shape(\"Trapezium\",15,30)\n",
        "trapezium.area()\n"
      ]
    },
    {
      "cell_type": "code",
      "execution_count": null,
      "metadata": {
        "colab": {
          "base_uri": "https://localhost:8080/"
        },
        "id": "-W1YADye0V5Z",
        "outputId": "f48cb966-d694-45be-ba42-e6e5ce49f920"
      },
      "outputs": [
        {
          "name": "stdout",
          "output_type": "stream",
          "text": [
            "Calculator is ready!!\n",
            "==================\n",
            "Returned value: 30\n",
            "10 + 20 = 30\n",
            "==================\n",
            "Returned value: 20\n",
            "30 - 10 = 20\n",
            "==================\n",
            "Returned value: 100\n",
            "20 * 5 = 100\n",
            "==================\n",
            "Returned value: 6.25\n",
            "100 / 16 = 6.25\n"
          ]
        }
      ],
      "source": [
        "#Task-12\n",
        "class Calculator:\n",
        "    def __init__(self , *args):\n",
        "      print(\"Calculator is ready!!\")\n",
        "    def calculate(self , num1 , num2 , x):\n",
        "      self.num1=num1\n",
        "      self.num2=num2\n",
        "      self.x=x \n",
        "      if self.x == '+':\n",
        "        return (self.num1 + self.num2)\n",
        "      elif self.x == '-':\n",
        "        return(self.num1 - self.num2)\n",
        "      elif self.x == '*':\n",
        "        return(self.num1 * self.num2)\n",
        "      elif self.x == '/':\n",
        "        return (self.num1 / self.num2)\n",
        "    def showCalculation(self):\n",
        "      if self.x == '+':\n",
        "        print(f\"{self.num1} + {self.num2} = {val}\")\n",
        "      elif self.x == '-':\n",
        "        print(f\"{self.num1} - {self.num2} = {val}\")\n",
        "      elif self.x == '*':\n",
        "        print(f\"{self.num1} * {self.num2} = {val}\")\n",
        "      elif self.x == '/':\n",
        "        print(f\"{self.num1} / {self.num2} = {val}\")\n",
        "\n",
        "c1 = Calculator()\n",
        "print(\"==================\")\n",
        "val = c1.calculate(10, 20, '+')\n",
        "print(\"Returned value:\", val)\n",
        "c1.showCalculation()\n",
        "print(\"==================\")\n",
        "val = c1.calculate(val, 10, '-')\n",
        "print(\"Returned value:\", val)\n",
        "c1.showCalculation()\n",
        "print(\"==================\")\n",
        "val = c1.calculate(val, 5, '*')\n",
        "print(\"Returned value:\", val)\n",
        "c1.showCalculation()\n",
        "print(\"==================\")\n",
        "val = c1.calculate(val, 16, '/')\n",
        "print(\"Returned value:\", val)\n",
        "c1.showCalculation()\n"
      ]
    },
    {
      "cell_type": "code",
      "execution_count": null,
      "metadata": {
        "colab": {
          "base_uri": "https://localhost:8080/"
        },
        "id": "VFay-bt26-FA",
        "outputId": "f49650b7-067a-4271-c0a2-080d5202d396"
      },
      "outputs": [
        {
          "name": "stdout",
          "output_type": "stream",
          "text": [
            "Horray! A new programmer is born\n",
            "Name:  Ethen Hunt\n",
            "Language:  Java\n",
            "Experience:  10 years\n",
            "--------------------------\n",
            "Horray! A new programmer is born\n",
            "Name:  James Bond\n",
            "Language:  C++\n",
            "Experience:  7 years\n",
            "--------------------------\n",
            "Horray! A new programmer is born\n",
            "Name:  Jon Snow\n",
            "Language:  Python\n",
            "Experience:  4 years\n",
            "Updating experience of Jon Snow\n",
            "Name:  Jon Snow\n",
            "Language:  Python\n",
            "Experience:  9 years\n"
          ]
        }
      ],
      "source": [
        "#Task-13\n",
        "\n",
        "class Programmer:\n",
        "    def __init__(self,name,language,exp):\n",
        "        self.name = name\n",
        "        self.language = language\n",
        "        self.exp = exp\n",
        "        print(\"Horray! A new programmer is born\")\n",
        "    \n",
        "    def addExp(self,year):\n",
        "        print(\"Updating experience of\",self.name)\n",
        "        self.exp += year\n",
        "    \n",
        "    def printDetails(self):\n",
        "        print(\"Name: \",self.name)\n",
        "        print(\"Language: \",self.language)\n",
        "        print(\"Experience: \",self.exp,\"years\")\n",
        "    \n",
        "        \n",
        "p1 = Programmer(\"Ethen Hunt\", \"Java\", 10)\n",
        "p1.printDetails()\n",
        "print('--------------------------')\n",
        "p2 = Programmer(\"James Bond\", \"C++\", 7)\n",
        "p2.printDetails()\n",
        "print('--------------------------')\n",
        "p3 = Programmer(\"Jon Snow\", \"Python\", 4)\n",
        "p3.printDetails()\n",
        "p3.addExp(5)\n",
        "p3.printDetails() \n",
        "        "
      ]
    },
    {
      "cell_type": "code",
      "execution_count": null,
      "metadata": {
        "colab": {
          "base_uri": "https://localhost:8080/"
        },
        "id": "EoUJfzNX6_V2",
        "outputId": "c815a7d5-e520-480b-9dbe-bed2c213364f"
      },
      "outputs": [
        {
          "name": "stdout",
          "output_type": "stream",
          "text": [
            "18 7 25\n",
            "18 7 25\n",
            "44 11 80\n",
            "55 22 157\n"
          ]
        }
      ],
      "source": [
        "#Task-14\n",
        "class Test:\n",
        "    def __init__(self):\n",
        "        self.sum = 0\n",
        "        self.y = 0\n",
        "\n",
        "\n",
        "    def methodA(self):\n",
        "        x=0\n",
        "        y=0\n",
        "        y = y + 7\n",
        "        x = y + 11\n",
        "        self.sum = x + y\n",
        "        print(x , y, self.sum)\n",
        "\n",
        "\n",
        "    def methodB(self):\n",
        "        x = 0\n",
        "        self.y = self.y + 11\n",
        "        x = x + 33 + self.y\n",
        "        self.sum = self.sum + x + self.y\n",
        "        print(x , self.y, self.sum)\n",
        "\n",
        "t1 = Test()\n",
        "t1.methodA()\n",
        "t1.methodA()\n",
        "t1.methodB()\n",
        "t1.methodB()\n"
      ]
    },
    {
      "cell_type": "code",
      "execution_count": 1,
      "metadata": {
        "colab": {
          "base_uri": "https://localhost:8080/"
        },
        "id": "oO5-RuMjEEJy",
        "outputId": "0602b517-0748-4f1b-abbe-db499927bf8f"
      },
      "outputs": [
        {
          "name": "stdout",
          "output_type": "stream",
          "text": [
            "1 0\n",
            "405 302\n",
            "1 0\n",
            "1 0\n",
            "1209 704\n",
            "1 0\n"
          ]
        },
        {
          "data": {
            "text/plain": [
              "1"
            ]
          },
          "execution_count": 1,
          "metadata": {},
          "output_type": "execute_result"
        }
      ],
      "source": [
        "#Task - 15\n",
        "class Scope:\n",
        "    def __init__(self):\n",
        "        self.x, self.y = 1, 100        \n",
        "    def met1(self):\n",
        "        x = 3\n",
        "        x = self.x + 1\n",
        "        self.y = self.y + self.x + 1\n",
        "        x = self.y + self.met2() + self.y\n",
        "        print(x, self.y)         \n",
        "    def met2(self):\n",
        "        y = 0\n",
        "        print(self.x, y)\n",
        "        self.x = self.x + y\n",
        "        self.y = self.y + 200\n",
        "        return self.x + y\n",
        "\n",
        "q2 = Scope()\n",
        "q2.met1()\n",
        "q2.met2()\n",
        "q2.met1()\n",
        "q2.met2()\n"
      ]
    },
    {
      "cell_type": "code",
      "execution_count": 2,
      "metadata": {},
      "outputs": [
        {
          "name": "stdout",
          "output_type": "stream",
          "text": [
            "36 3 39\n",
            "9 3 18\n",
            "36 6 60\n",
            "15 6 30\n",
            "36 9 75\n",
            "21 9 42\n",
            "36 12 90\n",
            "27 12 54\n"
          ]
        }
      ],
      "source": [
        "#Task - 16\n",
        "class Test3:\n",
        "    def __init__(self):\n",
        "        self.sum, self.y = 0, 0\n",
        "    def methodA(self):\n",
        "        x, y = 2, 3\n",
        "        msg = [0]\n",
        "        msg[0] = 3\n",
        "        y = self.y + msg[0]\n",
        "        self.methodB(msg, msg[0])\n",
        "        x = self.y + msg[0]\n",
        "        self.sum = x + y + msg[0]\n",
        "        print(x, y, self.sum)\n",
        "    def methodB(self, mg2, mg1):\n",
        "        x = 0\n",
        "        self.y = self.y + mg2[0]\n",
        "        x = x + 33 + mg1\n",
        "        self.sum = self.sum + x + self.y\n",
        "        mg2[0] = self.y + mg1\n",
        "        mg1 = mg1 + x + 2\n",
        "        print(x, self.y, self.sum)\n",
        "\n",
        "t3 = Test3()\n",
        "t3.methodA()\n",
        "t3.methodA()\n",
        "t3.methodA()\n",
        "t3.methodA()\n"
      ]
    },
    {
      "cell_type": "code",
      "execution_count": 3,
      "metadata": {},
      "outputs": [
        {
          "name": "stdout",
          "output_type": "stream",
          "text": [
            "1 0 0\n",
            "-4 1 1\n",
            "2 1 0\n",
            "-3 3 3\n",
            "4 3 0\n",
            "-1 7 7\n",
            "8 7 0\n",
            "3 15 15\n",
            "16 15 0\n",
            "11 31 31\n"
          ]
        }
      ],
      "source": [
        "class Test5:\n",
        "    def __init__(self):\n",
        "        self.sum, self.y = 0, 0\n",
        "    def methodA(self):    \n",
        "        x = 0\n",
        "        z = 0\n",
        "        while (z < 5):\n",
        "            self.y = self.y + self.sum\n",
        "            x = self.y + 1\n",
        "            print(x, self.y, self.sum)\n",
        "            self.sum = self.sum + self.methodB(x, self.y)\n",
        "            z += 1\n",
        "    def methodB(self, m, n):\n",
        "        x = 0\n",
        "        sum = 0\n",
        "        self.y = self.y + m\n",
        "        x = n - 4\n",
        "        sum = sum + self.y\n",
        "        print(x, self.y, sum)\n",
        "        return self.sum\n",
        "t5 = Test5()\n",
        "t5.methodA()\n",
        "\n"
      ]
    }
  ],
  "metadata": {
    "colab": {
      "provenance": []
    },
    "kernelspec": {
      "display_name": "Python 3",
      "language": "python",
      "name": "python3"
    },
    "language_info": {
      "codemirror_mode": {
        "name": "ipython",
        "version": 3
      },
      "file_extension": ".py",
      "mimetype": "text/x-python",
      "name": "python",
      "nbconvert_exporter": "python",
      "pygments_lexer": "ipython3",
      "version": "3.11.2"
    },
    "vscode": {
      "interpreter": {
        "hash": "34d159953b303130a21521e8daeeb18aacf6e9693be5f7f603749d2efc52db36"
      }
    }
  },
  "nbformat": 4,
  "nbformat_minor": 0
}
